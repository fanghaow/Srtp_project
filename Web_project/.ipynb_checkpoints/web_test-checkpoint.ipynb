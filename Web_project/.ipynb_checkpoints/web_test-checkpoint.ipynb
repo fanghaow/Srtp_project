{
 "cells": [
  {
   "cell_type": "code",
   "execution_count": 1,
   "metadata": {},
   "outputs": [],
   "source": [
    "import requests as rq\n",
    "import numpy as np\n",
    "import matplotlib.pyplot as plt\n",
    "import json"
   ]
  },
  {
   "cell_type": "code",
   "execution_count": 3,
   "metadata": {},
   "outputs": [
    {
     "name": "stdout",
     "output_type": "stream",
     "text": [
      "web coding type : unicode\n",
      "web html content : ﻿\r\n",
      "<!DOCTYPE html>\r\n",
      "<html>\r\n",
      "<head>\r\n",
      "<meta charset=\"utf-8\">\r\n",
      "<title>欢迎</title>\r\n",
      "</head>\r\n",
      "<body>\r\n",
      "    <h1>这里什么都没有</h1>\r\n",
      "    <p>11111111</p>\r\n",
      "<a href=\"ttt123.txt\" download=\"test.txt\">下载</a> \r\n",
      "</body>\r\n",
      "</html>\r\n",
      "\n"
     ]
    }
   ],
   "source": [
    "url = 'http://1.15.140.205/' # srtp server created by wxf\n",
    "r = rq.get(url)\n",
    "r.encoding = \"unicode\" # \"utf-8\"\n",
    "print('web coding type :',r.encoding)\n",
    "print('web html content :',r.text)"
   ]
  },
  {
   "cell_type": "code",
   "execution_count": 4,
   "metadata": {},
   "outputs": [
    {
     "data": {
      "text/plain": [
       "requests.models.Response"
      ]
     },
     "execution_count": 4,
     "metadata": {},
     "output_type": "execute_result"
    }
   ],
   "source": [
    "# post \n",
    "r_post = rq.post(url, data = {'usrname':'fanghao_w', 'password':'iamsohandsome'})\n",
    "type(r_post)"
   ]
  },
  {
   "cell_type": "code",
   "execution_count": 5,
   "metadata": {},
   "outputs": [
    {
     "data": {
      "text/plain": [
       "'<!DOCTYPE html PUBLIC \"-//W3C//DTD XHTML 1.0 Strict//EN\" \"http://www.w3.org/TR/xhtml1/DTD/xhtml1-strict.dtd\">\\r\\n<html xmlns=\"http://www.w3.org/1999/xhtml\">\\r\\n<head>\\r\\n<meta http-equiv=\"Content-Type\" content=\"text/html; charset=gb2312\"/>\\r\\n<title>405 - ²»ÔÊÐíÓÃÓÚ·ÃÎÊ´ËÒ³µÄ HTTP Î½´Ê¡£</title>\\r\\n<style type=\"text/css\">\\r\\n<!--\\r\\nbody{margin:0;font-size:.7em;font-family:Verdana, Arial, Helvetica, sans-serif;background:#EEEEEE;}\\r\\nfieldset{padding:0 15px 10px 15px;} \\r\\nh1{font-size:2.4em;margin:0;color:#FFF;}\\r\\nh2{font-size:1.7em;margin:0;color:#CC0000;} \\r\\nh3{font-size:1.2em;margin:10px 0 0 0;color:#000000;} \\r\\n#header{width:96%;margin:0 0 0 0;padding:6px 2% 6px 2%;font-family:\"trebuchet MS\", Verdana, sans-serif;color:#FFF;\\r\\nbackground-color:#555555;}\\r\\n#content{margin:0 0 0 2%;position:relative;}\\r\\n.content-container{background:#FFF;width:96%;margin-top:8px;padding:10px;position:relative;}\\r\\n-->\\r\\n</style>\\r\\n</head>\\r\\n<body>\\r\\n<div id=\"header\"><h1>·þÎñÆ÷´íÎó</h1></div>\\r\\n<div id=\"content\">\\r\\n <div class=\"content-container\"><fieldset>\\r\\n  <h2>405 - ²»ÔÊÐíÓÃÓÚ·ÃÎÊ´ËÒ³µÄ HTTP Î½´Ê¡£</h2>\\r\\n  <h3>ÄúÒª²éÕÒµÄÒ³ÃæÎÞ·¨ÏÔÊ¾£¬ÒòÎª³¢ÊÔ·ÃÎÊÊ±Ê¹ÓÃÁËÎÞÐ§·½·¨(HTTP Î½´Ê)¡£</h3>\\r\\n </fieldset></div>\\r\\n</div>\\r\\n</body>\\r\\n</html>\\r\\n'"
      ]
     },
     "execution_count": 5,
     "metadata": {},
     "output_type": "execute_result"
    }
   ],
   "source": [
    "r_post.encodong = 'utf-8'\n",
    "r_post.text"
   ]
  },
  {
   "cell_type": "code",
   "execution_count": 6,
   "metadata": {},
   "outputs": [
    {
     "name": "stdout",
     "output_type": "stream",
     "text": [
      "i am here\n",
      "[7, 6, 4, 3, 1]\n"
     ]
    }
   ],
   "source": [
    "# make a game for bubble sort\n",
    "def sort(l, order = 'small2big'):\n",
    "    for i,item in enumerate(l):\n",
    "        for index,item in enumerate(l):\n",
    "            if index == 0:\n",
    "                continue\n",
    "            if item < l[index - 1]:\n",
    "                l[index- 1], l[index] = l[index], l[index - 1]\n",
    "            if index == len(l) - i:\n",
    "                break\n",
    "    if order == 'small2big':\n",
    "        return l\n",
    "    else:\n",
    "        print('i am here')\n",
    "        l.reverse()\n",
    "        return l\n",
    "result = sort([6,3,7,4,1], order = 'inv')\n",
    "print(result)"
   ]
  },
  {
   "cell_type": "code",
   "execution_count": 7,
   "metadata": {},
   "outputs": [
    {
     "data": {
      "text/plain": [
       "['__add__',\n",
       " '__class__',\n",
       " '__contains__',\n",
       " '__delattr__',\n",
       " '__delitem__',\n",
       " '__dir__',\n",
       " '__doc__',\n",
       " '__eq__',\n",
       " '__format__',\n",
       " '__ge__',\n",
       " '__getattribute__',\n",
       " '__getitem__',\n",
       " '__gt__',\n",
       " '__hash__',\n",
       " '__iadd__',\n",
       " '__imul__',\n",
       " '__init__',\n",
       " '__init_subclass__',\n",
       " '__iter__',\n",
       " '__le__',\n",
       " '__len__',\n",
       " '__lt__',\n",
       " '__mul__',\n",
       " '__ne__',\n",
       " '__new__',\n",
       " '__reduce__',\n",
       " '__reduce_ex__',\n",
       " '__repr__',\n",
       " '__reversed__',\n",
       " '__rmul__',\n",
       " '__setattr__',\n",
       " '__setitem__',\n",
       " '__sizeof__',\n",
       " '__str__',\n",
       " '__subclasshook__',\n",
       " 'append',\n",
       " 'clear',\n",
       " 'copy',\n",
       " 'count',\n",
       " 'extend',\n",
       " 'index',\n",
       " 'insert',\n",
       " 'pop',\n",
       " 'remove',\n",
       " 'reverse',\n",
       " 'sort']"
      ]
     },
     "execution_count": 7,
     "metadata": {},
     "output_type": "execute_result"
    }
   ],
   "source": [
    "dir(list)"
   ]
  },
  {
   "cell_type": "code",
   "execution_count": 8,
   "metadata": {},
   "outputs": [
    {
     "name": "stdout",
     "output_type": "stream",
     "text": [
      "['0', '1', '2', '3', '4', '5', '6', '7', '8', '9']\n"
     ]
    }
   ],
   "source": [
    "a = list(map(str, list(range(10))))\n",
    "print(a)"
   ]
  },
  {
   "cell_type": "code",
   "execution_count": 9,
   "metadata": {},
   "outputs": [
    {
     "name": "stdout",
     "output_type": "stream",
     "text": [
      "216\n"
     ]
    }
   ],
   "source": [
    "from functools import reduce\n",
    "def mul(i1, i2):\n",
    "    return i1 * i2\n",
    "\n",
    "b = reduce(mul, [3, 4, 2, 9])\n",
    "print(b)"
   ]
  },
  {
   "cell_type": "code",
   "execution_count": 10,
   "metadata": {},
   "outputs": [
    {
     "data": {
      "text/plain": [
       "' fanghao_w is so lazy'"
      ]
     },
     "execution_count": 10,
     "metadata": {},
     "output_type": "execute_result"
    }
   ],
   "source": [
    "' fanghao_w is so lazy\\n'.strip('\\n')"
   ]
  },
  {
   "cell_type": "code",
   "execution_count": 11,
   "metadata": {},
   "outputs": [
    {
     "name": "stdout",
     "output_type": "stream",
     "text": [
      "This is my normal arguments : 1\n",
      "This is my optional arguments : [1, 2, 3]\n"
     ]
    }
   ],
   "source": [
    "def func(norm_arg, *args):\n",
    "    print('This is my normal arguments :', norm_arg)\n",
    "    print('This is my optional arguments :', *args)\n",
    "    # print('This is my keyword arguments :', **kw)\n",
    "\n",
    "func(1, [1,2,3]) #, {'name' : 'fanghaow', 'sex' : 'male'})"
   ]
  },
  {
   "cell_type": "code",
   "execution_count": 12,
   "metadata": {},
   "outputs": [
    {
     "name": "stdout",
     "output_type": "stream",
     "text": [
      "<class 'list'>\n",
      "<class 'str'>\n",
      "[{\"name\": \"wfh\", \"age\": \"21\", \"sex\": \"man\"}]\n"
     ]
    }
   ],
   "source": [
    "# json file process\n",
    "data = [{'name':'wfh', 'age':'21', 'sex':'man'}]\n",
    "print(type(data))\n",
    "data_j = json.dumps(data)\n",
    "print(type(data_j))\n",
    "print(data_j)"
   ]
  },
  {
   "cell_type": "code",
   "execution_count": 13,
   "metadata": {},
   "outputs": [],
   "source": [
    "# 导入json模块\n",
    "import json\n",
    "# 定义Python数组\n",
    "py_list = [{'JavaEE': \"http://java.itheima.com\"},\n",
    "          {'HTML$JS+前端': \"http://web.itheima.com\"},\n",
    "          {'大数据': \"http://cloud.itheima.com\"},\n",
    "          {'Python': \"http://python.itheima.com\"},\n",
    "          {'人工智能': \"http://ai.itheima.com\"},\n",
    "          {'软件测试': \"http://test.itheima.com\"},\n",
    "          {'C++': \"http://c.itheima.com\"},\n",
    "          {'UI/UE设计': \"http://ui.itheima.com\"},\n",
    "          {'产品经理': \"http://pm.itheima.com\"},\n",
    "          {'Linux云计算+运维开发': \"http://linux.itheima.com\"},\n",
    "          {'新媒体+短视频直播运营': \"http://java.itheima.com\"},\n",
    "          {'拍摄剪辑': \"http://movies.itheima.com\"},\n",
    "          {'智能机器人软件开发': \"http://java.itheima.com\"},\n",
    "          {'电商视觉运营设计': \"http://java.itheima.com\"},]\n",
    "          \n",
    "with open('array.json', 'w') as json_data:\n",
    "    json.dump(py_list, json_data, ensure_ascii=False) # 'ensure_ascii=False' will make chinese to be right seen\n",
    "# json.dump(obj, fp, *, skipkeys=False, ensure_ascii=True, check_circular=True, allow_nan=True, cls=None, indent=None, separators=None, default=None, sort_keys=False, **kw) \n",
    "# Serialize obj as a JSON formatted stream to fp (a .write()-supporting file-like object) using this conversion table."
   ]
  },
  {
   "cell_type": "code",
   "execution_count": 14,
   "metadata": {},
   "outputs": [
    {
     "name": "stdout",
     "output_type": "stream",
     "text": [
      "data : [{'JavaEE': 'http://java.itheima.com'}, {'HTML$JS+前端': 'http://web.itheima.com'}, {'大数据': 'http://cloud.itheima.com'}, {'Python': 'http://python.itheima.com'}, {'人工智能': 'http://ai.itheima.com'}, {'软件测试': 'http://test.itheima.com'}, {'C++': 'http://c.itheima.com'}, {'UI/UE设计': 'http://ui.itheima.com'}, {'产品经理': 'http://pm.itheima.com'}, {'Linux云计算+运维开发': 'http://linux.itheima.com'}, {'新媒体+短视频直播运营': 'http://java.itheima.com'}, {'拍摄剪辑': 'http://movies.itheima.com'}, {'智能机器人软件开发': 'http://java.itheima.com'}, {'电商视觉运营设计': 'http://java.itheima.com'}]\n"
     ]
    }
   ],
   "source": [
    "filename = 'array.json'\n",
    "with open(filename,'r',encoding='utf-8') as file:\n",
    "    data=json.load(file) \n",
    "# json.load(fp, *, cls=None, object_hook=None, parse_float=None, parse_int=None, parse_constant=None, object_pairs_hook=None, **kw)\n",
    "# Deserialize fp (a .read()-supporting text file or binary file containing a JSON document) to a Python object using this conversion table.\n",
    "print('data :', data)"
   ]
  },
  {
   "cell_type": "code",
   "execution_count": 15,
   "metadata": {},
   "outputs": [
    {
     "data": {
      "text/plain": [
       "True"
      ]
     },
     "execution_count": 15,
     "metadata": {},
     "output_type": "execute_result"
    }
   ],
   "source": [
    "# dump : python list --> json file\n",
    "# load : json file --> python list\n",
    "# dumps and loads just vary \"json file\" to \"json str\" compared with dump and load\n",
    "data == py_list"
   ]
  },
  {
   "cell_type": "markdown",
   "metadata": {},
   "source": [
    "# Insert json data "
   ]
  },
  {
   "cell_type": "code",
   "execution_count": 25,
   "metadata": {},
   "outputs": [
    {
     "name": "stderr",
     "output_type": "stream",
     "text": [
      "<ipython-input-25-669530dff7f1>:2: RuntimeWarning: divide by zero encountered in log\n",
      "  fruit_data_up = [np.log(x) for x in range(256)]\n"
     ]
    },
    {
     "data": {
      "text/plain": [
       "[<matplotlib.lines.Line2D at 0x7fcf9fe00340>]"
      ]
     },
     "execution_count": 25,
     "metadata": {},
     "output_type": "execute_result"
    },
    {
     "data": {
      "image/png": "[encoded data removed]",
      "text/plain": [
       "<Figure size 432x288 with 1 Axes>"
      ]
     },
     "metadata": {
      "needs_background": "light"
     },
     "output_type": "display_data"
    }
   ],
   "source": [
    "# write a 256 vector into json file\n",
    "fruit_data_up = [np.log(x) for x in range(256)]\n",
    "plt.plot(fruit_data_up)"
   ]
  },
  {
   "cell_type": "code",
   "execution_count": 28,
   "metadata": {
    "tags": []
   },
   "outputs": [],
   "source": [
    "# write data\n",
    "wave_length_up = [i for i in range(256)]\n",
    "py_list_up = []\n",
    "for i in range(256):\n",
    "    py_dict_up = {}\n",
    "    py_dict_up[wave_length_up[i]] = fruit_data_up[i]\n",
    "    py_list_up.append(py_dict_up)\n",
    "# print(py_list_up)\n",
    "json_data = open('array.json', 'w')\n",
    "json.dump(py_list_up, json_data, ensure_ascii=False, indent=4) \n",
    "json_data.close()"
   ]
  },
  {
   "cell_type": "code",
   "execution_count": 31,
   "metadata": {},
   "outputs": [
    {
     "name": "stdout",
     "output_type": "stream",
     "text": [
      "up = down : True\n"
     ]
    },
    {
     "data": {
      "image/png": "[encoded data removed]",
      "text/plain": [
       "<Figure size 432x288 with 1 Axes>"
      ]
     },
     "metadata": {
      "needs_background": "light"
     },
     "output_type": "display_data"
    }
   ],
   "source": [
    "# load data\n",
    "json_data = open('array.json', 'r', encoding='utf-8')\n",
    "py_list_down = json.load(json_data)\n",
    "json_data.close()\n",
    "# print(py_list_down)\n",
    "wave_length_down = []\n",
    "fruit_data_down = []\n",
    "for item in py_list_down:\n",
    "    for key, value in item.items():\n",
    "        wave_length_down.append(key)\n",
    "        fruit_data_down.append(value)\n",
    "\n",
    "plt.scatter(wave_length_down, fruit_data_down)    \n",
    "\n",
    "print('up = down :', fruit_data_down == fruit_data_up)"
   ]
  },
  {
   "cell_type": "markdown",
   "metadata": {},
   "source": [
    "# Download json file from server"
   ]
  },
  {
   "cell_type": "code",
   "execution_count": 3,
   "metadata": {},
   "outputs": [],
   "source": [
    "import requests\n",
    "# Download address\n",
    "Download_addres = 'http://1.15.140.205/array.json'\n",
    "# use requests module to make a file stream\n",
    "f = requests.get(Download_addres)\n",
    "# write file\n",
    "with open(\"data_down.json\",\"wb\") as code:\n",
    "     code.write(f.content)"
   ]
  },
  {
   "cell_type": "markdown",
   "metadata": {},
   "source": [
    "# load matrix data (2-D) into json file"
   ]
  },
  {
   "cell_type": "code",
   "execution_count": 8,
   "metadata": {},
   "outputs": [
    {
     "data": {
      "text/plain": [
       "[<matplotlib.lines.Line2D at 0x7f8650ed5be0>]"
      ]
     },
     "execution_count": 8,
     "metadata": {},
     "output_type": "execute_result"
    },
    {
     "data": {
      "image/png": "[encoded data removed]",
      "text/plain": [
       "<Figure size 432x288 with 1 Axes>"
      ]
     },
     "metadata": {
      "needs_background": "light"
     },
     "output_type": "display_data"
    }
   ],
   "source": [
    "# write a (time * 256) matrix into json file\n",
    "time_num = 100\n",
    "wavelength = 256\n",
    "data_mat = np.zeros((time_num, wavelength))\n",
    "\n",
    "for t in range(time_num):\n",
    "    for w in range(wavelength):\n",
    "        if w != 0 :\n",
    "            data_mat[t, w] = np.log(w) + 0.1 * t * np.random.rand()\n",
    "        else:\n",
    "            data_mat[t,w] = -1 + t * np.random.rand()\n",
    "\n",
    "plt.plot(data_mat[3,:])"
   ]
  },
  {
   "cell_type": "code",
   "execution_count": 10,
   "metadata": {},
   "outputs": [
    {
     "data": {
      "text/plain": [
       "[<matplotlib.lines.Line2D at 0x7f865106fbe0>]"
      ]
     },
     "execution_count": 10,
     "metadata": {},
     "output_type": "execute_result"
    },
    {
     "data": {
      "image/png": "[encoded data removed]",
      "text/plain": [
       "<Figure size 432x288 with 1 Axes>"
      ]
     },
     "metadata": {
      "needs_background": "light"
     },
     "output_type": "display_data"
    }
   ],
   "source": [
    "plt.plot(data_mat[:,2])"
   ]
  },
  {
   "cell_type": "code",
   "execution_count": 22,
   "metadata": {},
   "outputs": [
    {
     "name": "stdout",
     "output_type": "stream",
     "text": [
      "save successfully\n"
     ]
    }
   ],
   "source": [
    "data_mat = list(data_mat)\n",
    "data_mat = [list(i) for i in data_mat]\n",
    "data_dict = {}\n",
    "for t in range(time_num):\n",
    "    data_dict['Number ' + str(t+1) + ' times'] = data_mat[t]\n",
    "json_data = open('matrix.json', 'w')\n",
    "json.dump(data_dict, json_data, ensure_ascii=False, indent=4) \n",
    "json_data.close()\n",
    "print('save successfully')"
   ]
  },
  {
   "cell_type": "code",
   "execution_count": 32,
   "metadata": {},
   "outputs": [],
   "source": [
    "# load data from my matrix json file\n",
    "json_data = open('matrix.json', 'r', encoding='utf-8')\n",
    "l_data_dict = json.load(json_data)\n",
    "json_data.close()\n",
    "# load data from json data\n",
    "time_num = len(l_data_dict)\n",
    "l_data_mat = np.zeros((time_num, wavelength))\n",
    "for t in range(time_num):\n",
    "    l_data_mat[t, :] = l_data_dict['Number ' + str(t+1) + ' times']"
   ]
  },
  {
   "cell_type": "code",
   "execution_count": 35,
   "metadata": {},
   "outputs": [
    {
     "data": {
      "text/plain": [
       "True"
      ]
     },
     "execution_count": 35,
     "metadata": {},
     "output_type": "execute_result"
    },
    {
     "data": {
      "image/png": "[encoded data removed]",
      "text/plain": [
       "<Figure size 432x288 with 1 Axes>"
      ]
     },
     "metadata": {
      "needs_background": "light"
     },
     "output_type": "display_data"
    }
   ],
   "source": [
    "plt.plot(l_data_mat[:,2])\n",
    "(l_data_mat - data_mat).any() == 0"
   ]
  }
 ],
 "metadata": {
  "kernelspec": {
   "display_name": "Python 3",
   "language": "python",
   "name": "python3"
  },
  "language_info": {
   "codemirror_mode": {
    "name": "ipython",
    "version": 3
   },
   "file_extension": ".py",
   "mimetype": "text/x-python",
   "name": "python",
   "nbconvert_exporter": "python",
   "pygments_lexer": "ipython3",
   "version": "3.8.5"
  }
 },
 "nbformat": 4,
 "nbformat_minor": 2
}
