{
 "metadata": {
  "language_info": {
   "codemirror_mode": {
    "name": "ipython",
    "version": 3
   },
   "file_extension": ".py",
   "mimetype": "text/x-python",
   "name": "python",
   "nbconvert_exporter": "python",
   "pygments_lexer": "ipython3",
   "version": "3.8.5"
  },
  "orig_nbformat": 2,
  "kernelspec": {
   "name": "python385jvsc74a57bd08d93d0ffe4cb2e9b9f462eadf5733ca19c80f2960371a9df0f55a453ac750a75",
   "display_name": "Python 3.8.5 64-bit ('base': conda)"
  }
 },
 "nbformat": 4,
 "nbformat_minor": 2,
 "cells": [
  {
   "cell_type": "code",
   "execution_count": 3,
   "metadata": {},
   "outputs": [],
   "source": [
    "import requests as rq\n",
    "import numpy as numpy\n",
    "import matplotlib.pyplot as plt"
   ]
  },
  {
   "cell_type": "code",
   "execution_count": 13,
   "metadata": {},
   "outputs": [
    {
     "output_type": "stream",
     "name": "stdout",
     "text": [
      "web coding type : unicode\nweb html content : ﻿\n<!DOCTYPE html>\n<html>\n<head>\n<meta charset=\"utf-8\">\n<title>欢迎</title>\n</head>\n<body>\n    <h1>这里什么都没有</h1>\n    <p>11111111</p>\n<a href=\"ttt123.txt\" download=\"test.txt\">下载</a> \n</body>\n</html>\n\n"
     ]
    }
   ],
   "source": [
    "url = 'http://1.15.140.205/' # srtp server created by wxf\n",
    "r = rq.get(url)\n",
    "r.encoding = \"unicode\" # \"utf-8\"\n",
    "print('web coding type :',r.encoding)\n",
    "print('web html content :',r.text)"
   ]
  },
  {
   "cell_type": "code",
   "execution_count": 15,
   "metadata": {},
   "outputs": [
    {
     "output_type": "execute_result",
     "data": {
      "text/plain": [
       "requests.models.Response"
      ]
     },
     "metadata": {},
     "execution_count": 15
    }
   ],
   "source": [
    "# post \n",
    "r_post = rq.post(url, data = {'usrname':'fanghao_w', 'password':'iamsohandsome'})\n",
    "type(r_post)"
   ]
  },
  {
   "cell_type": "code",
   "execution_count": 17,
   "metadata": {},
   "outputs": [
    {
     "output_type": "execute_result",
     "data": {
      "text/plain": [
       "'<!DOCTYPE html PUBLIC \"-//W3C//DTD XHTML 1.0 Strict//EN\" \"http://www.w3.org/TR/xhtml1/DTD/xhtml1-strict.dtd\">\\r\\n<html xmlns=\"http://www.w3.org/1999/xhtml\">\\r\\n<head>\\r\\n<meta http-equiv=\"Content-Type\" content=\"text/html; charset=gb2312\"/>\\r\\n<title>405 - ²»ÔÊÐíÓÃÓÚ·ÃÎÊ´ËÒ³µÄ HTTP Î½´Ê¡£</title>\\r\\n<style type=\"text/css\">\\r\\n<!--\\r\\nbody{margin:0;font-size:.7em;font-family:Verdana, Arial, Helvetica, sans-serif;background:#EEEEEE;}\\r\\nfieldset{padding:0 15px 10px 15px;} \\r\\nh1{font-size:2.4em;margin:0;color:#FFF;}\\r\\nh2{font-size:1.7em;margin:0;color:#CC0000;} \\r\\nh3{font-size:1.2em;margin:10px 0 0 0;color:#000000;} \\r\\n#header{width:96%;margin:0 0 0 0;padding:6px 2% 6px 2%;font-family:\"trebuchet MS\", Verdana, sans-serif;color:#FFF;\\r\\nbackground-color:#555555;}\\r\\n#content{margin:0 0 0 2%;position:relative;}\\r\\n.content-container{background:#FFF;width:96%;margin-top:8px;padding:10px;position:relative;}\\r\\n-->\\r\\n</style>\\r\\n</head>\\r\\n<body>\\r\\n<div id=\"header\"><h1>·þÎñÆ÷´íÎó</h1></div>\\r\\n<div id=\"content\">\\r\\n <div class=\"content-container\"><fieldset>\\r\\n  <h2>405 - ²»ÔÊÐíÓÃÓÚ·ÃÎÊ´ËÒ³µÄ HTTP Î½´Ê¡£</h2>\\r\\n  <h3>ÄúÒª²éÕÒµÄÒ³ÃæÎÞ·¨ÏÔÊ¾£¬ÒòÎª³¢ÊÔ·ÃÎÊÊ±Ê¹ÓÃÁËÎÞÐ§·½·¨(HTTP Î½´Ê)¡£</h3>\\r\\n </fieldset></div>\\r\\n</div>\\r\\n</body>\\r\\n</html>\\r\\n'"
      ]
     },
     "metadata": {},
     "execution_count": 17
    }
   ],
   "source": [
    "r_post.encodong = 'utf-8'\n",
    "r_post.text"
   ]
  }
 ]
}